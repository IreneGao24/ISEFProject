{
 "cells": [
  {
   "cell_type": "code",
   "execution_count": 25,
   "id": "f77310fa",
   "metadata": {},
   "outputs": [],
   "source": [
    "import os\n",
    "import sys\n",
    "import csv\n",
    "import pandas as pd\n",
    "import numpy as np\n",
    "\n",
    "import os.path\n",
    "from os import path\n",
    "\n",
    "import openslide\n",
    "from skimage.color import rgb2hsv\n",
    "import PIL\n",
    "from PIL import Image\n",
    "\n",
    "import cv2\n",
    "import glob\n",
    "import h5py\n",
    "import os\n",
    "import pathlib\n",
    "import tables\n",
    "\n",
    "import torch\n",
    "from skimage import io, transform\n",
    "from sklearn import metrics\n",
    "from itertools import cycle\n",
    "\n",
    "from sklearn import svm, datasets\n",
    "from sklearn.metrics import roc_curve, auc\n",
    "from sklearn.model_selection import train_test_split\n",
    "from sklearn.preprocessing import label_binarize\n",
    "from sklearn.multiclass import OneVsRestClassifier\n",
    "from sklearn.metrics import roc_auc_score\n",
    "from sklearn.metrics import precision_recall_curve\n",
    "from sklearn.metrics import f1_score\n",
    "from sklearn.metrics import auc\n",
    "from sklearn.svm import SVC\n",
    "from sklearn.svm import LinearSVC\n",
    "from nltk.classify.scikitlearn import SklearnClassifier\n",
    "from sklearn.linear_model import LogisticRegression\n",
    "from sklearn.linear_model import LinearRegression\n",
    "from sklearn.metrics import accuracy_score\n",
    "from sklearn.calibration import CalibratedClassifierCV\n",
    "from sklearn.linear_model import RidgeClassifier\n",
    "from sklearn.utils.extmath import softmax\n",
    "\n",
    "import matplotlib.pyplot as plt\n",
    "from torch.utils.data import Dataset, DataLoader\n",
    "from torchvision import transforms, utils\n",
    "from matplotlib import pyplot\n",
    "\n",
    "import torch\n",
    "import timm\n",
    "import torch\n",
    "import torchvision\n",
    "import torchvision.transforms as transforms\n",
    "import torch.optim as optim\n",
    "import time\n",
    "import torch.nn.functional as F\n",
    "import torch.nn as nn\n",
    "from torch.nn.functional import kl_div, softmax, log_softmax"
   ]
  },
  {
   "cell_type": "code",
   "execution_count": 26,
   "id": "96c756eb",
   "metadata": {},
   "outputs": [],
   "source": [
    "from sklearn.utils.extmath import softmax\n",
    "class RidgeClassifierProb(RidgeClassifier):\n",
    "    def predict_proba(self, X):\n",
    "        d = self.decision_function(X)\n",
    "        d_2d = np.c_[-d, d]\n",
    "        return softmax(d_2d)"
   ]
  },
  {
   "cell_type": "code",
   "execution_count": 27,
   "id": "8d0372e6",
   "metadata": {},
   "outputs": [
    {
     "data": {
      "text/plain": [
       "<KeysViewHDF5 ['test_img', 'test_label', 'train_img', 'train_label', 'val_img', 'val_label']>"
      ]
     },
     "execution_count": 27,
     "metadata": {},
     "output_type": "execute_result"
    }
   ],
   "source": [
    "hdf5_path = '/home/irene/Downloads/luadlusc.hdf5'\n",
    "file = h5py.File(hdf5_path, \"r\")\n",
    "file.keys()\n"
   ]
  },
  {
   "cell_type": "code",
   "execution_count": 28,
   "id": "d28efc70",
   "metadata": {},
   "outputs": [],
   "source": [
    "rgb_mean,rgb_std = (0.485, 0.456, 0.406),(0.229, 0.224, 0.225)\n"
   ]
  },
  {
   "cell_type": "code",
   "execution_count": 29,
   "id": "930ab4cc",
   "metadata": {},
   "outputs": [],
   "source": [
    "class HDF5Dataset(Dataset):\n",
    "\n",
    "\n",
    "    def __init__(self, h5_path, set_name, transform = None):\n",
    "        self.h5_path = h5_path\n",
    "        self.dataset = None\n",
    "        self.transform = transform\n",
    "        self.file_path  = h5_path\n",
    "        self.set = set_name\n",
    "        \n",
    "        str_name = self.set + \"_img\"\n",
    "        \n",
    "        file = h5py.File(h5_path, \"r\")\n",
    "        self.dataset_len = len(file[str_name])\n",
    "        \n",
    "        self.transform = transforms.Compose([\n",
    "                transforms.RandomHorizontalFlip(p=0.5),\n",
    "                transforms.Resize(224),\n",
    "                transforms.ToTensor(),\n",
    "                transforms.Normalize(rgb_mean,rgb_std)\n",
    "            ])\n",
    "        \n",
    "    def __getitem__(self, index): #to enable indexing\n",
    "        \n",
    "        if self.dataset is None:\n",
    "            self.imgs = h5py.File(self.file_path, 'r')[self.set + \"_img\"]\n",
    "            self.labels = h5py.File(self.file_path, 'r')[self.set + \"_label\"]\n",
    "            \n",
    "            cur_img = self.imgs[index]\n",
    "            PIL_image = Image.fromarray(np.uint8(cur_img)).convert('RGB')#3 channels don't need alpha channel network input\n",
    "            image = self.transform(PIL_image)\n",
    "            label = self.labels[index].astype('float32')\n",
    "            \n",
    "            \n",
    "        return (image,label)\n",
    "\n",
    "    def __len__(self):\n",
    "        return self.dataset_len\n",
    "\n"
   ]
  },
  {
   "cell_type": "code",
   "execution_count": 30,
   "id": "e86e93e2",
   "metadata": {},
   "outputs": [],
   "source": [
    "from torch.utils.data import Dataset,DataLoader\n",
    "\n",
    "train_loader = DataLoader(HDF5Dataset(h5_path=hdf5_path,set_name=\"train\"), batch_size=8,shuffle=True,drop_last=False)\n",
    "val_loader = DataLoader(HDF5Dataset(h5_path=hdf5_path,set_name=\"val\"), batch_size=8,shuffle=True,drop_last=False)\n",
    "test_loader = DataLoader(HDF5Dataset(h5_path=hdf5_path,set_name=\"test\"), batch_size=8,shuffle=True,drop_last=False)"
   ]
  },
  {
   "cell_type": "code",
   "execution_count": 31,
   "id": "9c1dc210",
   "metadata": {},
   "outputs": [],
   "source": [
    "device = torch.device(\"cuda\" if torch.cuda.is_available() else \"cpu\")\n",
    "\n",
    "out_dim = 2\n",
    "\n",
    "model = timm.create_model(\"vgg16\", pretrained=True)\n",
    "\n",
    "\n",
    "model.to(device)\n",
    "optimizer = torch.optim.SGD(model.parameters(),lr=0.001,weight_decay = 1e-4,momentum = 0.9)\n",
    "criterion = nn.CrossEntropyLoss()"
   ]
  },
  {
   "cell_type": "code",
   "execution_count": 32,
   "id": "6d46c9b3",
   "metadata": {},
   "outputs": [
    {
     "name": "stdout",
     "output_type": "stream",
     "text": [
      "3724\n"
     ]
    }
   ],
   "source": [
    "iterator = iter(train_loader)\n",
    "total_step = len(train_loader)\n",
    "print(total_step)"
   ]
  },
  {
   "cell_type": "code",
   "execution_count": 33,
   "id": "6fe78ab3",
   "metadata": {},
   "outputs": [],
   "source": [
    "max_epochs = 20\n",
    "def train_valid_model (net,loader):\n",
    "    iterator = iter(train_loader)\n",
    "    lfv_all = []\n",
    "    label_all = []\n",
    "    total_step = len(train_loader)\n",
    "    total_step = total_step-3700\n",
    "    for step in range(total_step-1):\n",
    "        images,labels = next(iterator)\n",
    "        images = images.to(device)\n",
    "        labels = labels.to(device)\n",
    "        labels = labels.long()\n",
    "\n",
    "        optimizer.zero_grad()\n",
    "\n",
    "        output = model(images)\n",
    "        loss = criterion(output,labels)\n",
    "\n",
    "        lfv = model.forward_features(images)\n",
    "        print(lfv.shape)\n",
    "        print(labels.shape)\n",
    "        if len(lfv_all) == 0:\n",
    "            lfv_all = lfv.detach().cpu().numpy()\n",
    "            label_all = labels.detach().cpu().numpy()\n",
    "        else:\n",
    "            lfv_all = np.vstack((lfv_all, lfv.detach().cpu().numpy()))\n",
    "            label_all = np.vstack((label_all, labels.detach().cpu().numpy()))\n",
    "        \n",
    "        print(\"Batch:\")\n",
    "        print(step)\n",
    "    return lfv_all, label_all\n",
    "\n"
   ]
  },
  {
   "cell_type": "code",
   "execution_count": 34,
   "id": "e9b91687",
   "metadata": {},
   "outputs": [],
   "source": [
    "max_epochs = 20\n",
    "def test_valid_model (net,loader):\n",
    "    iterator = iter(train_loader)\n",
    "    lfv_all = []\n",
    "    label_all = []\n",
    "    total_step = len(train_loader)\n",
    "    total_step = total_step-3700\n",
    "    for step in range(total_step-1):\n",
    "        images,labels = next(iterator)\n",
    "        images = images.to(device)\n",
    "        labels = labels.to(device)\n",
    "        labels = labels.long()\n",
    "\n",
    "        optimizer.zero_grad()\n",
    "\n",
    "        output = model(images)\n",
    "        loss = criterion(output,labels)\n",
    "\n",
    "        lfv = model.forward_features(images)\n",
    "        print(lfv.shape)\n",
    "        print(labels.shape)\n",
    "        if len(lfv_all) == 0:\n",
    "            lfv_all = lfv.detach().cpu().numpy()\n",
    "            label_all = labels.detach().cpu().numpy()\n",
    "        else:\n",
    "            lfv_all = np.vstack((lfv_all, lfv.detach().cpu().numpy()))\n",
    "            label_all = np.vstack((label_all, labels.detach().cpu().numpy()))\n",
    "        \n",
    "        print(\"Batch:\")\n",
    "        print(step)\n",
    "    return lfv_all, label_all"
   ]
  },
  {
   "cell_type": "code",
   "execution_count": 35,
   "id": "82bf2e49",
   "metadata": {
    "scrolled": true
   },
   "outputs": [
    {
     "name": "stdout",
     "output_type": "stream",
     "text": [
      "torch.Size([8, 4096, 1, 1])\n",
      "torch.Size([8])\n",
      "Batch:\n",
      "0\n",
      "torch.Size([8, 4096, 1, 1])\n",
      "torch.Size([8])\n",
      "Batch:\n",
      "1\n",
      "torch.Size([8, 4096, 1, 1])\n",
      "torch.Size([8])\n",
      "Batch:\n",
      "2\n",
      "torch.Size([8, 4096, 1, 1])\n",
      "torch.Size([8])\n",
      "Batch:\n",
      "3\n",
      "torch.Size([8, 4096, 1, 1])\n",
      "torch.Size([8])\n",
      "Batch:\n",
      "4\n",
      "torch.Size([8, 4096, 1, 1])\n",
      "torch.Size([8])\n",
      "Batch:\n",
      "5\n",
      "torch.Size([8, 4096, 1, 1])\n",
      "torch.Size([8])\n",
      "Batch:\n",
      "6\n",
      "torch.Size([8, 4096, 1, 1])\n",
      "torch.Size([8])\n",
      "Batch:\n",
      "7\n",
      "torch.Size([8, 4096, 1, 1])\n",
      "torch.Size([8])\n",
      "Batch:\n",
      "8\n",
      "torch.Size([8, 4096, 1, 1])\n",
      "torch.Size([8])\n",
      "Batch:\n",
      "9\n",
      "torch.Size([8, 4096, 1, 1])\n",
      "torch.Size([8])\n",
      "Batch:\n",
      "10\n",
      "torch.Size([8, 4096, 1, 1])\n",
      "torch.Size([8])\n",
      "Batch:\n",
      "11\n",
      "torch.Size([8, 4096, 1, 1])\n",
      "torch.Size([8])\n",
      "Batch:\n",
      "12\n",
      "torch.Size([8, 4096, 1, 1])\n",
      "torch.Size([8])\n",
      "Batch:\n",
      "13\n",
      "torch.Size([8, 4096, 1, 1])\n",
      "torch.Size([8])\n",
      "Batch:\n",
      "14\n",
      "torch.Size([8, 4096, 1, 1])\n",
      "torch.Size([8])\n",
      "Batch:\n",
      "15\n",
      "torch.Size([8, 4096, 1, 1])\n",
      "torch.Size([8])\n",
      "Batch:\n",
      "16\n",
      "torch.Size([8, 4096, 1, 1])\n",
      "torch.Size([8])\n",
      "Batch:\n",
      "17\n",
      "torch.Size([8, 4096, 1, 1])\n",
      "torch.Size([8])\n",
      "Batch:\n",
      "18\n",
      "torch.Size([8, 4096, 1, 1])\n",
      "torch.Size([8])\n",
      "Batch:\n",
      "19\n",
      "torch.Size([8, 4096, 1, 1])\n",
      "torch.Size([8])\n",
      "Batch:\n",
      "20\n",
      "torch.Size([8, 4096, 1, 1])\n",
      "torch.Size([8])\n",
      "Batch:\n",
      "21\n",
      "torch.Size([8, 4096, 1, 1])\n",
      "torch.Size([8])\n",
      "Batch:\n",
      "22\n"
     ]
    }
   ],
   "source": [
    "x_train,y_train = train_valid_model(model, train_loader)\n",
    "\n",
    "y_train = y_train.flatten()"
   ]
  },
  {
   "cell_type": "code",
   "execution_count": 36,
   "id": "2a8e1276",
   "metadata": {},
   "outputs": [],
   "source": [
    "x_train = np.mean(x_train, axis = 2)\n",
    "x_train = np.mean(x_train, axis = 2)"
   ]
  },
  {
   "cell_type": "code",
   "execution_count": 37,
   "id": "305fb910",
   "metadata": {},
   "outputs": [
    {
     "name": "stderr",
     "output_type": "stream",
     "text": [
      "/home/irene/anaconda3/lib/python3.9/site-packages/sklearn/svm/_base.py:985: ConvergenceWarning: Liblinear failed to converge, increase the number of iterations.\n",
      "  warnings.warn(\"Liblinear failed to converge, increase \"\n",
      "/home/irene/anaconda3/lib/python3.9/site-packages/sklearn/svm/_base.py:985: ConvergenceWarning: Liblinear failed to converge, increase the number of iterations.\n",
      "  warnings.warn(\"Liblinear failed to converge, increase \"\n"
     ]
    },
    {
     "name": "stdout",
     "output_type": "stream",
     "text": [
      "done-fitting!\n"
     ]
    },
    {
     "name": "stderr",
     "output_type": "stream",
     "text": [
      "/home/irene/anaconda3/lib/python3.9/site-packages/sklearn/svm/_base.py:985: ConvergenceWarning: Liblinear failed to converge, increase the number of iterations.\n",
      "  warnings.warn(\"Liblinear failed to converge, increase \"\n"
     ]
    }
   ],
   "source": [
    "clf = CalibratedClassifierCV(LinearSVC())\n",
    "clf.fit(x_train, y_train)\n",
    "print(\"done-fitting!\")"
   ]
  },
  {
   "cell_type": "code",
   "execution_count": 38,
   "id": "55cd5956",
   "metadata": {},
   "outputs": [
    {
     "name": "stdout",
     "output_type": "stream",
     "text": [
      "done-fitting!\n"
     ]
    }
   ],
   "source": [
    "clf = RidgeClassifierProb()\n",
    "clf.fit(x_train, y_train)\n",
    "print(\"done-fitting!\")"
   ]
  },
  {
   "cell_type": "code",
   "execution_count": null,
   "id": "7b8120e1",
   "metadata": {},
   "outputs": [],
   "source": [
    "clf = LogisticRegression()\n",
    "clf.fit(x_train, y_train)\n",
    "print(\"done-fitting!\")"
   ]
  },
  {
   "cell_type": "code",
   "execution_count": 39,
   "id": "0adc0393",
   "metadata": {
    "scrolled": true
   },
   "outputs": [
    {
     "name": "stdout",
     "output_type": "stream",
     "text": [
      "torch.Size([8, 4096, 1, 1])\n",
      "torch.Size([8])\n",
      "Batch:\n",
      "0\n",
      "torch.Size([8, 4096, 1, 1])\n",
      "torch.Size([8])\n",
      "Batch:\n",
      "1\n",
      "torch.Size([8, 4096, 1, 1])\n",
      "torch.Size([8])\n",
      "Batch:\n",
      "2\n",
      "torch.Size([8, 4096, 1, 1])\n",
      "torch.Size([8])\n",
      "Batch:\n",
      "3\n",
      "torch.Size([8, 4096, 1, 1])\n",
      "torch.Size([8])\n",
      "Batch:\n",
      "4\n",
      "torch.Size([8, 4096, 1, 1])\n",
      "torch.Size([8])\n",
      "Batch:\n",
      "5\n",
      "torch.Size([8, 4096, 1, 1])\n",
      "torch.Size([8])\n",
      "Batch:\n",
      "6\n",
      "torch.Size([8, 4096, 1, 1])\n",
      "torch.Size([8])\n",
      "Batch:\n",
      "7\n",
      "torch.Size([8, 4096, 1, 1])\n",
      "torch.Size([8])\n",
      "Batch:\n",
      "8\n",
      "torch.Size([8, 4096, 1, 1])\n",
      "torch.Size([8])\n",
      "Batch:\n",
      "9\n",
      "torch.Size([8, 4096, 1, 1])\n",
      "torch.Size([8])\n",
      "Batch:\n",
      "10\n",
      "torch.Size([8, 4096, 1, 1])\n",
      "torch.Size([8])\n",
      "Batch:\n",
      "11\n",
      "torch.Size([8, 4096, 1, 1])\n",
      "torch.Size([8])\n",
      "Batch:\n",
      "12\n",
      "torch.Size([8, 4096, 1, 1])\n",
      "torch.Size([8])\n",
      "Batch:\n",
      "13\n",
      "torch.Size([8, 4096, 1, 1])\n",
      "torch.Size([8])\n",
      "Batch:\n",
      "14\n",
      "torch.Size([8, 4096, 1, 1])\n",
      "torch.Size([8])\n",
      "Batch:\n",
      "15\n",
      "torch.Size([8, 4096, 1, 1])\n",
      "torch.Size([8])\n",
      "Batch:\n",
      "16\n",
      "torch.Size([8, 4096, 1, 1])\n",
      "torch.Size([8])\n",
      "Batch:\n",
      "17\n",
      "torch.Size([8, 4096, 1, 1])\n",
      "torch.Size([8])\n",
      "Batch:\n",
      "18\n",
      "torch.Size([8, 4096, 1, 1])\n",
      "torch.Size([8])\n",
      "Batch:\n",
      "19\n",
      "torch.Size([8, 4096, 1, 1])\n",
      "torch.Size([8])\n",
      "Batch:\n",
      "20\n",
      "torch.Size([8, 4096, 1, 1])\n",
      "torch.Size([8])\n",
      "Batch:\n",
      "21\n",
      "torch.Size([8, 4096, 1, 1])\n",
      "torch.Size([8])\n",
      "Batch:\n",
      "22\n"
     ]
    }
   ],
   "source": [
    "x_test, y_test = test_valid_model(model, test_loader)\n",
    "\n",
    "y_test = y_test.flatten()"
   ]
  },
  {
   "cell_type": "code",
   "execution_count": 40,
   "id": "8c4c9836",
   "metadata": {},
   "outputs": [],
   "source": [
    "x_test = np.mean(x_test, axis = 2)\n",
    "x_test = np.mean(x_test, axis = 2)"
   ]
  },
  {
   "cell_type": "code",
   "execution_count": 41,
   "id": "a44ca79e",
   "metadata": {},
   "outputs": [
    {
     "name": "stdout",
     "output_type": "stream",
     "text": [
      "done-predicting!\n"
     ]
    }
   ],
   "source": [
    "\n",
    "y_pred = clf.predict(x_test)\n",
    "print(\"done-predicting!\")"
   ]
  },
  {
   "cell_type": "code",
   "execution_count": 42,
   "id": "8b0a359e",
   "metadata": {},
   "outputs": [
    {
     "name": "stdout",
     "output_type": "stream",
     "text": [
      "done-predicting probability!\n"
     ]
    }
   ],
   "source": [
    "y_prob = clf.predict_proba(x_test)\n",
    "print(\"done-predicting probability!\")\n",
    "fpr = dict()\n",
    "tpr = dict()"
   ]
  },
  {
   "cell_type": "code",
   "execution_count": 43,
   "id": "170a7bff",
   "metadata": {},
   "outputs": [
    {
     "name": "stdout",
     "output_type": "stream",
     "text": [
      "AUC: 0.671\n"
     ]
    },
    {
     "data": {
      "image/png": "[encoded data removed]",
      "text/plain": [
       "<Figure size 432x288 with 1 Axes>"
      ]
     },
     "metadata": {
      "needs_background": "light"
     },
     "output_type": "display_data"
    }
   ],
   "source": [
    "fpr, tpr, thresholds = roc_curve(y_test, y_prob[:,1])\n",
    "roc_auc = roc_auc_score(y_test, y_prob[:,1])\n",
    "print('AUC: %.3f' % roc_auc)\n",
    "# ROC Curves and AUC\n",
    "plt.plot(fpr,tpr ,marker='.', label='ROC curve (area = %0.2f)' % roc_auc)\n",
    "plt.plot([0, 1], [0, 1], 'k--')\n",
    "plt.xlim([0.0, 1.0])\n",
    "plt.ylim([0.0, 1.0])\n",
    "plt.xlabel('False Positive Rate')\n",
    "plt.ylabel('True Positive Rate')\n",
    "plt.title('VGG16 - Representation Learning With Linear Regression Classifier')\n",
    "plt.legend(loc=\"lower right\")\n",
    "plt.savefig('VGG16_Representation_Learning_lr.png')"
   ]
  },
  {
   "cell_type": "code",
   "execution_count": null,
   "id": "18bb1bce",
   "metadata": {},
   "outputs": [],
   "source": []
  }
 ],
 "metadata": {
  "kernelspec": {
   "display_name": "Python 3 (ipykernel)",
   "language": "python",
   "name": "python3"
  },
  "language_info": {
   "codemirror_mode": {
    "name": "ipython",
    "version": 3
   },
   "file_extension": ".py",
   "mimetype": "text/x-python",
   "name": "python",
   "nbconvert_exporter": "python",
   "pygments_lexer": "ipython3",
   "version": "3.9.7"
  }
 },
 "nbformat": 4,
 "nbformat_minor": 5
}
